{
 "cells": [
  {
   "cell_type": "code",
   "execution_count": null,
   "id": "a1c3d949",
   "metadata": {},
   "outputs": [],
   "source": [
    "import numpy as np\n",
    "import pandas as pd"
   ]
  },
  {
   "cell_type": "code",
   "execution_count": 2,
   "id": "afb7b4a5",
   "metadata": {},
   "outputs": [],
   "source": [
    "# Load the CSV file\n",
    "df = pd.read_csv(\"data/Fake.csv\")\n",
    "\n",
    "# Get the number of rows in the CSV file\n",
    "n_rows = len(df)\n",
    "\n",
    "# Sample 20% of the rows randomly\n",
    "sample_size = int(n_rows * 0.2)\n",
    "random_indices = np.random.choice(n_rows, sample_size, replace=False)\n",
    "\n",
    "# Create a new CSV file with the sampled rows\n",
    "df_sample = df.iloc[random_indices]\n",
    "df_sample.to_csv(\"data/fake_test_20.csv\", index=False)\n",
    "\n",
    "# Save the rest of the rows into a new CSV file\n",
    "df_rest = df.loc[~df.index.isin(random_indices)]\n",
    "df_rest.to_csv(\"data/fake_train_80.csv\", index=False)"
   ]
  }
 ],
 "metadata": {
  "kernelspec": {
   "display_name": "deep1",
   "language": "python",
   "name": "python3"
  },
  "language_info": {
   "codemirror_mode": {
    "name": "ipython",
    "version": 3
   },
   "file_extension": ".py",
   "mimetype": "text/x-python",
   "name": "python",
   "nbconvert_exporter": "python",
   "pygments_lexer": "ipython3",
   "version": "3.12.9"
  }
 },
 "nbformat": 4,
 "nbformat_minor": 5
}
